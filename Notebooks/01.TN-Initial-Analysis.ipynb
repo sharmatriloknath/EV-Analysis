{
 "cells": [
  {
   "cell_type": "code",
   "execution_count": 1,
   "id": "1e82a3be",
   "metadata": {},
   "outputs": [],
   "source": [
    "# Import Necessary libraries\n",
    "import pandas as pd\n",
    "import numpy as np\n",
    "import matplotlib.pyplot as plt\n",
    "import seaborn as sns"
   ]
  },
  {
   "cell_type": "code",
   "execution_count": 2,
   "id": "9eb37ffc",
   "metadata": {},
   "outputs": [],
   "source": [
    "# Read Data\n",
    "ev_data = pd.read_csv('../Data/IEA-EV-data.csv')"
   ]
  },
  {
   "cell_type": "code",
   "execution_count": 3,
   "id": "7c988d32",
   "metadata": {},
   "outputs": [],
   "source": [
    "ev_df = (\n",
    "ev_data\n",
    "    .assign(\n",
    "        **{c:lambda df_,c=c:df_[c].astype('category') for c in ['region','category','parameter','mode','powertrain','unit']},\n",
    "        year = lambda df_:df_['year'].astype(\"int16\")\n",
    "    )\n",
    ")"
   ]
  },
  {
   "cell_type": "code",
   "execution_count": 4,
   "id": "ae3e8e94",
   "metadata": {},
   "outputs": [
    {
     "data": {
      "text/html": [
       "<div>\n",
       "<style scoped>\n",
       "    .dataframe tbody tr th:only-of-type {\n",
       "        vertical-align: middle;\n",
       "    }\n",
       "\n",
       "    .dataframe tbody tr th {\n",
       "        vertical-align: top;\n",
       "    }\n",
       "\n",
       "    .dataframe thead th {\n",
       "        text-align: right;\n",
       "    }\n",
       "</style>\n",
       "<table border=\"1\" class=\"dataframe\">\n",
       "  <thead>\n",
       "    <tr style=\"text-align: right;\">\n",
       "      <th></th>\n",
       "      <th>region</th>\n",
       "      <th>category</th>\n",
       "      <th>parameter</th>\n",
       "      <th>mode</th>\n",
       "      <th>powertrain</th>\n",
       "      <th>year</th>\n",
       "      <th>unit</th>\n",
       "      <th>value</th>\n",
       "    </tr>\n",
       "  </thead>\n",
       "  <tbody>\n",
       "    <tr>\n",
       "      <th>0</th>\n",
       "      <td>Australia</td>\n",
       "      <td>Historical</td>\n",
       "      <td>EV sales</td>\n",
       "      <td>Cars</td>\n",
       "      <td>BEV</td>\n",
       "      <td>2011</td>\n",
       "      <td>sales</td>\n",
       "      <td>49.000000</td>\n",
       "    </tr>\n",
       "    <tr>\n",
       "      <th>1</th>\n",
       "      <td>Australia</td>\n",
       "      <td>Historical</td>\n",
       "      <td>EV stock</td>\n",
       "      <td>Cars</td>\n",
       "      <td>BEV</td>\n",
       "      <td>2011</td>\n",
       "      <td>stock</td>\n",
       "      <td>49.000000</td>\n",
       "    </tr>\n",
       "    <tr>\n",
       "      <th>2</th>\n",
       "      <td>Australia</td>\n",
       "      <td>Historical</td>\n",
       "      <td>EV sales share</td>\n",
       "      <td>Cars</td>\n",
       "      <td>EV</td>\n",
       "      <td>2011</td>\n",
       "      <td>percent</td>\n",
       "      <td>0.006479</td>\n",
       "    </tr>\n",
       "    <tr>\n",
       "      <th>3</th>\n",
       "      <td>Australia</td>\n",
       "      <td>Historical</td>\n",
       "      <td>EV stock share</td>\n",
       "      <td>Cars</td>\n",
       "      <td>EV</td>\n",
       "      <td>2011</td>\n",
       "      <td>percent</td>\n",
       "      <td>0.000464</td>\n",
       "    </tr>\n",
       "    <tr>\n",
       "      <th>4</th>\n",
       "      <td>Australia</td>\n",
       "      <td>Historical</td>\n",
       "      <td>EV stock share</td>\n",
       "      <td>Cars</td>\n",
       "      <td>EV</td>\n",
       "      <td>2012</td>\n",
       "      <td>percent</td>\n",
       "      <td>0.002785</td>\n",
       "    </tr>\n",
       "  </tbody>\n",
       "</table>\n",
       "</div>"
      ],
      "text/plain": [
       "      region    category       parameter  mode powertrain  year     unit  \\\n",
       "0  Australia  Historical        EV sales  Cars        BEV  2011    sales   \n",
       "1  Australia  Historical        EV stock  Cars        BEV  2011    stock   \n",
       "2  Australia  Historical  EV sales share  Cars         EV  2011  percent   \n",
       "3  Australia  Historical  EV stock share  Cars         EV  2011  percent   \n",
       "4  Australia  Historical  EV stock share  Cars         EV  2012  percent   \n",
       "\n",
       "       value  \n",
       "0  49.000000  \n",
       "1  49.000000  \n",
       "2   0.006479  \n",
       "3   0.000464  \n",
       "4   0.002785  "
      ]
     },
     "execution_count": 4,
     "metadata": {},
     "output_type": "execute_result"
    }
   ],
   "source": [
    "ev_df.head()"
   ]
  },
  {
   "cell_type": "markdown",
   "id": "b130ae34",
   "metadata": {},
   "source": [
    "### About Data summary\n",
    "#### 1. Electric car sales continue to break records, but mineral supply constraints are looming:\n",
    "- Few areas in the world of clean energy are as dynamic as the electric car market. Sales of electric vehicles (EVs) doubled in 2021 from the previous year to a new record of 6.6 million. Back in 2012, just 120 000 electric cars were sold worldwide. In 2021, more than that many are sold each week. Nearly 10% of global car sales were electric in 2021, four times the market share in 2019. This brought the total number of electric cars on the world’s roads to about 16.5 million, triple the amount in 2018. Global sales of electric cars have kept rising strongly in 2022, with 2 million sold in the first quarter, up 75% from the same period in 2021.\n",
    "\n",
    "- The success of EVs is being driven by multiple factors. Sustained policy support is the main pillar. Public spending on subsidies and incentives for EVs nearly doubled in 2021 to nearly USD 30 billion. A growing number of countries have pledged to phase out internal combustion engines or have ambitious vehicle electrification targets for the coming decades. Meanwhile, many carmakers have plans to electrify their fleets that go further than policy targets. Finally, five times more new EV models were available in 2021 than in 2015, increasing the attractiveness for consumers. The number of EV models available on the market is around 450.\n",
    "\n",
    "- The increase in EV sales in 2021 was primarily led by the People’s Republic of China (“China”), which accounted for half of the growth. More vehicles were sold in China in 2021 (3.3 million) than in the entire world in 2020. Sales in Europe showed continued robust growth (up 65% to 2.3 million) after the 2020 boom, and they increased in the United States as well (to 630 000) after two years of decline. The first quarter of 2022 showed similar trends, with sales in China more than doubling compared with the first quarter of 2021 (accounting for most of global growth), a 60% increase in the United States and a 25% increase in Europe.\n",
    "\n",
    "- In China, electric cars are typically smaller than in other markets. This, alongside lower development and manufacturing costs, has contributed to decreasing the price gap with conventional cars. In 2021, the sales-weighted median price of EVs in China was only 10% more than that of conventional offerings, compared with 45-50% on average in other major markets. China accounts for 95% of new registrations of electric two- and three-wheeler vehicles and 90% of new electric bus and truck registrations worldwide. Electric two- and three-wheeler vehicles now account for half of China’s sales. The speed of charging infrastructure roll-out in China is faster than in most other regions.\n",
    "\n",
    "- By contrast, EV sales are still lagging in other emerging and developing economies, where the few models that are available remain unaffordable for mass-market consumers. In Brazil, India and Indonesia, fewer than 0.5% of car sales are electric. However, EV sales doubled in a number of regions in 2021 – including in India– which could pave the way for quicker market uptake by 2030 if supporting investments and policies are in place.\n",
    "\n",
    "\n",
    "#### 2. Sales keep rising, but much more needs to be done to support charging infrastructure and heavy-duty vehicles\n",
    "\n",
    "- The Covid-19 pandemic and Russia’s war in Ukraine have disrupted global supply chains, and the car industry has been heavily impacted. In the near future, EV delivery delays to customers may dampen sales growth in some markets. But in the longer term, government and corporate efforts to electrify transport are providing a solid basis for further growth in EV sales. The IEA Announced Pledges Scenario (APS), which is based on existing climate-focused policy pledges and announcements, presumes that EVs represent more than 30% of vehicles sold globally in 2030 across all modes (excluding two- and three-wheelers). While impressive, this is still well short of the 60% share needed by 2030 to align with a trajectory that would reach net zero CO2 emissions by 2050. Under current policy plans reflected in the IEA Stated Policies Scenario (STEPS), EVs reach just over 20% of sales in 2030, increasing the stock 11-fold from today’s levels to 200 million vehicles.\n",
    "\n",
    "- The global market value of electricity for EV charging is projected to grow over 20-fold in the APS, reaching approximately USD 190 billion by 2030, which is is equivalent to about one-tenth of today’s diesel and gasoline market value. Yet, the amount of public charging infrastructure that has been announced might be insufficient to power the size of the EV market being targeted. There are important variations across countries in terms of charging infrastructure roll-out speed and need. The suitable number of chargers per EV will depend on local specificities such as housing stock, typical travel distances, population density and reliance on home charging. Charging at home and workplace are likely to supply much of the demand overall, but the number of public chargers still needs to expand ninefold and reach over 15 million units in 2030 to meet the levels envisaged in the APS and provide consumers with adequate and convenient coverage.\n",
    "\n",
    "- Electric trucks have so far been substantially deployed only in China, thanks to strong government support. In 2021, however, several other countries announced support for heavy truck electrification. Truck manufacturers have also developed new electric truck models: more than 170 were available outside China in 2021. Rapid deployment will be needed to keep pace with government announcements, and further efforts will be needed to meet net zero ambitions. The electric trucks accounted for just 0.3% of global truck sales in 2021. This needs to reach around 10% by 2030 in the APS, and 25% in the IEA’s Net Zero Emissions by 2050 Scenario (NZE). Short-haul trucks are the segment that can be electrified fastest, and for the most part these do not need a wide charging network if depot charging is available. Longer-range trucks will require high-power chargers that are currently expensive and often require significant grid upgrades. As a result, early planning and investments are crucial to minimise the strain on the grid and provide a suitable network for the next stage of heavy-duty vehicle electrification.\n",
    "\n",
    "- The simultaneous electrification of road transport and the deployment of decentralised variable renewables such as rooftop solar will make power grid distribution more complex to manage. Grid simulations suggest that between now and 2030, EV loads in major car markets should not pose significant challenges. This is because EVs are likely to account for less than 20% of the overall vehicle stock in most countries. However, some early adopter cities could face grid congestion pressures between now and 2030. Digital grid technologies and smart charging hold the key to transforming EVs from a grid integration challenge to an opportunity for grid management.\n",
    "\n",
    "#### 3. Electrifying transport helps address air pollution, oil import dependency and climate change\n",
    "- Electrifying transport has multiple benefits. Russia’s invasion of Ukraine has brought the role of EVs in reducing oil demand to the fore; it is one of the 10 measures proposed by the IEA to cut oil use in the near term. EV deployment in line with the pledges and announcements in the APS suggests a displacement (excluding two and three wheelers) of 1.6 million barrels per day (mb/d) of oil by 2025, and 4.6 mb/d by 2030. In terms of climate change, EVs achieve net greenhouse gas emissions reduction of nearly 580 Mt CO2-eq in the APS on a well-to-wheel basis compared to an equivalent use of ICE vehicles – more than Canada’s energy-related CO2 emissions today. Electrifying transport naturally boosts electricity demand: in the APS, EVs are projected to account for about 4% of total final electricity demand by 2030. At 1 100 terawatt-hours (TWh), electricity demand from EVs globally in 2030 in the APS is equivalent to twice today’s total electricity use in Brazil. \n",
    "\n",
    "#### 4. Focus is on critical minerals as battery markets expand\n",
    "- The rapid increase in EV sales during the pandemic has tested the resilience of battery supply chains, and Russia’s war in Ukraine has further exacerbated the challenge. Prices of raw materials such as cobalt, lithium and nickel have surged. In May 2022, lithium prices were over seven times higher than at the start of 2021. Unprecedented battery demand and a lack of structural investment in new supply capacity are key factors. Russia’s invasion of Ukraine has created further pressures, since Russia supplies 20% of global high-purity nickel. Average battery prices fell by 6% to USD 132 per kilowatt-hour in 2021, a slower decline than the 13% drop the previous year. If metal prices in 2022 remain as high as in the first quarter, battery packs would become 15% more expensive than they were in 2021, all else being equal. However, given the current oil price environment the relative competitiveness of EVs remains unaffected.\n",
    "\n",
    "- Today’s battery supply chains are concentrated around China, which produces three-quarters of all lithium-ion batteries and is home to 70% of production capacity for cathodes and 85% of production capacity for anodes (both are key components of batteries). Over half of lithium, cobalt and graphite processing and refining capacity is located in China. Europe is responsible for over one-quarter of global EV production, but it is home to very little of the supply chain apart from cobalt processing at 20%. The United States has an even smaller role in the global EV battery supply chain, with only 10% of EV production and 7% of battery production capacity. Both Korea and Japan have considerable shares of the supply chain downstream of raw material processing, particularly in the highly technical cathode and anode material production, Korea is responsible for 15% of cathode material production capacity, while Japan accounts for 14% of cathode and 11% of anode material production. Korean and Japanese companies are also involved in the production of other battery components such as separators.\n",
    "\n",
    "- Mining generally takes place in resource-rich countries such as Australia, Chile and the Democratic Republic of Congo, and is handled by a few major companies. Governments in Europe and the United States have bold public sector initiatives to develop domestic battery supply chains, but the majority of the supply chain is likely to remain Chinese through 2030. For example, 70% of battery production capacity announced for the period to 2030 is in China.\n",
    "\n",
    "- Pressure on the supply of critical materials will continue to mount as road transport electrification expands to meet net zero ambitions. Additional investments are needed in the short term, particularly in mining, where lead times are much longer than for other parts of the supply chain. Projected mineral supply until the end of the 2020s is in line with the demand for EV batteries in the STEPS. But the supply of some minerals such as lithium would need to rise by up to one-third by 2030 to match the demand for EV batteries to satisfy the pledges and announcements in the APS. For example, demand for lithium – the commodity with the largest projected demand-supply gap – is projected to increase sixfold to 500 kilotonnes by 2030 in the APS, requiring the equivalent of 50 new average-sized mines.\n",
    "\n",
    "- There are other variables affecting demand for minerals. If current high commodity prices endure, cathode chemistries could shift towards less mineral-intensive options. For example, the lithium iron phosphate chemistry does not require nickel nor cobalt, but comes with a lower energy density and is therefore better suited for shorter-range vehicles. Their share of global EV battery supply has more than doubled since 2020 because of high mineral prices and technology innovation, primarily driven by an increasing uptake in China. Innovation in new chemistries, such as manganese-rich cathodes or even sodium-ion, could further reduce the pressure on mining. Recycling can also reduce demand for minerals. Although the impact between now and 2030 is likely to be small, recycling’s contribution to moderating mineral demand is critical after 2030. In the NZE Scenario, demand grows even faster, requiring additional demand-side measures and technology innovation. Today’s corporate and consumer preferrence for large car models such as sports utility vehicles (SUVs), which account for half of all electric models available globally and require larger batteries to travel the same distances, is exerting additional pressure."
   ]
  },
  {
   "cell_type": "markdown",
   "id": "dace7c82",
   "metadata": {},
   "source": [
    "### 1. Over 16.5 million electric cars were on the road in 2021, a tripling in just three years"
   ]
  },
  {
   "cell_type": "code",
   "execution_count": 5,
   "id": "afeb118c",
   "metadata": {},
   "outputs": [
    {
     "data": {
      "text/html": [
       "<div>\n",
       "<style scoped>\n",
       "    .dataframe tbody tr th:only-of-type {\n",
       "        vertical-align: middle;\n",
       "    }\n",
       "\n",
       "    .dataframe tbody tr th {\n",
       "        vertical-align: top;\n",
       "    }\n",
       "\n",
       "    .dataframe thead th {\n",
       "        text-align: right;\n",
       "    }\n",
       "</style>\n",
       "<table border=\"1\" class=\"dataframe\">\n",
       "  <thead>\n",
       "    <tr style=\"text-align: right;\">\n",
       "      <th></th>\n",
       "      <th>region</th>\n",
       "      <th>category</th>\n",
       "      <th>parameter</th>\n",
       "      <th>mode</th>\n",
       "      <th>powertrain</th>\n",
       "      <th>year</th>\n",
       "      <th>unit</th>\n",
       "      <th>value</th>\n",
       "    </tr>\n",
       "  </thead>\n",
       "  <tbody>\n",
       "    <tr>\n",
       "      <th>0</th>\n",
       "      <td>Australia</td>\n",
       "      <td>Historical</td>\n",
       "      <td>EV sales</td>\n",
       "      <td>Cars</td>\n",
       "      <td>BEV</td>\n",
       "      <td>2011</td>\n",
       "      <td>sales</td>\n",
       "      <td>49.000000</td>\n",
       "    </tr>\n",
       "    <tr>\n",
       "      <th>1</th>\n",
       "      <td>Australia</td>\n",
       "      <td>Historical</td>\n",
       "      <td>EV stock</td>\n",
       "      <td>Cars</td>\n",
       "      <td>BEV</td>\n",
       "      <td>2011</td>\n",
       "      <td>stock</td>\n",
       "      <td>49.000000</td>\n",
       "    </tr>\n",
       "    <tr>\n",
       "      <th>2</th>\n",
       "      <td>Australia</td>\n",
       "      <td>Historical</td>\n",
       "      <td>EV sales share</td>\n",
       "      <td>Cars</td>\n",
       "      <td>EV</td>\n",
       "      <td>2011</td>\n",
       "      <td>percent</td>\n",
       "      <td>0.006479</td>\n",
       "    </tr>\n",
       "    <tr>\n",
       "      <th>3</th>\n",
       "      <td>Australia</td>\n",
       "      <td>Historical</td>\n",
       "      <td>EV stock share</td>\n",
       "      <td>Cars</td>\n",
       "      <td>EV</td>\n",
       "      <td>2011</td>\n",
       "      <td>percent</td>\n",
       "      <td>0.000464</td>\n",
       "    </tr>\n",
       "    <tr>\n",
       "      <th>4</th>\n",
       "      <td>Australia</td>\n",
       "      <td>Historical</td>\n",
       "      <td>EV stock share</td>\n",
       "      <td>Cars</td>\n",
       "      <td>EV</td>\n",
       "      <td>2012</td>\n",
       "      <td>percent</td>\n",
       "      <td>0.002785</td>\n",
       "    </tr>\n",
       "  </tbody>\n",
       "</table>\n",
       "</div>"
      ],
      "text/plain": [
       "      region    category       parameter  mode powertrain  year     unit  \\\n",
       "0  Australia  Historical        EV sales  Cars        BEV  2011    sales   \n",
       "1  Australia  Historical        EV stock  Cars        BEV  2011    stock   \n",
       "2  Australia  Historical  EV sales share  Cars         EV  2011  percent   \n",
       "3  Australia  Historical  EV stock share  Cars         EV  2011  percent   \n",
       "4  Australia  Historical  EV stock share  Cars         EV  2012  percent   \n",
       "\n",
       "       value  \n",
       "0  49.000000  \n",
       "1  49.000000  \n",
       "2   0.006479  \n",
       "3   0.000464  \n",
       "4   0.002785  "
      ]
     },
     "execution_count": 5,
     "metadata": {},
     "output_type": "execute_result"
    }
   ],
   "source": [
    "ev_df.head()"
   ]
  },
  {
   "cell_type": "code",
   "execution_count": 6,
   "id": "37dc81ef",
   "metadata": {},
   "outputs": [
    {
     "name": "stdout",
     "output_type": "stream",
     "text": [
      "948 µs ± 26.9 µs per loop (mean ± std. dev. of 7 runs, 1000 loops each)\n"
     ]
    }
   ],
   "source": [
    "%%timeit\n",
    "ev_df[(ev_df['parameter'] == 'EV stock') & (ev_df['year']==2021) & (ev_df['unit']=='stock')]['value'].sum()"
   ]
  },
  {
   "cell_type": "code",
   "execution_count": 7,
   "id": "3183add6",
   "metadata": {},
   "outputs": [
    {
     "name": "stdout",
     "output_type": "stream",
     "text": [
      "6.45 ms ± 1.46 ms per loop (mean ± std. dev. of 7 runs, 100 loops each)\n"
     ]
    }
   ],
   "source": [
    "%%timeit\n",
    "ev_df.query(\"parameter=='EV stock' and year==2021 and unit=='stock'\")['value'].sum()"
   ]
  },
  {
   "cell_type": "code",
   "execution_count": 40,
   "id": "07e62c68",
   "metadata": {},
   "outputs": [
    {
     "data": {
      "text/html": [
       "<div>\n",
       "<style scoped>\n",
       "    .dataframe tbody tr th:only-of-type {\n",
       "        vertical-align: middle;\n",
       "    }\n",
       "\n",
       "    .dataframe tbody tr th {\n",
       "        vertical-align: top;\n",
       "    }\n",
       "\n",
       "    .dataframe thead th {\n",
       "        text-align: right;\n",
       "    }\n",
       "</style>\n",
       "<table border=\"1\" class=\"dataframe\">\n",
       "  <thead>\n",
       "    <tr style=\"text-align: right;\">\n",
       "      <th></th>\n",
       "      <th>region</th>\n",
       "      <th>category</th>\n",
       "      <th>parameter</th>\n",
       "      <th>mode</th>\n",
       "      <th>powertrain</th>\n",
       "      <th>year</th>\n",
       "      <th>unit</th>\n",
       "      <th>value</th>\n",
       "    </tr>\n",
       "  </thead>\n",
       "  <tbody>\n",
       "    <tr>\n",
       "      <th>0</th>\n",
       "      <td>Australia</td>\n",
       "      <td>Historical</td>\n",
       "      <td>EV sales</td>\n",
       "      <td>Cars</td>\n",
       "      <td>BEV</td>\n",
       "      <td>2011</td>\n",
       "      <td>sales</td>\n",
       "      <td>49.000000</td>\n",
       "    </tr>\n",
       "    <tr>\n",
       "      <th>1</th>\n",
       "      <td>Australia</td>\n",
       "      <td>Historical</td>\n",
       "      <td>EV stock</td>\n",
       "      <td>Cars</td>\n",
       "      <td>BEV</td>\n",
       "      <td>2011</td>\n",
       "      <td>stock</td>\n",
       "      <td>49.000000</td>\n",
       "    </tr>\n",
       "    <tr>\n",
       "      <th>2</th>\n",
       "      <td>Australia</td>\n",
       "      <td>Historical</td>\n",
       "      <td>EV sales share</td>\n",
       "      <td>Cars</td>\n",
       "      <td>EV</td>\n",
       "      <td>2011</td>\n",
       "      <td>percent</td>\n",
       "      <td>0.006479</td>\n",
       "    </tr>\n",
       "    <tr>\n",
       "      <th>3</th>\n",
       "      <td>Australia</td>\n",
       "      <td>Historical</td>\n",
       "      <td>EV stock share</td>\n",
       "      <td>Cars</td>\n",
       "      <td>EV</td>\n",
       "      <td>2011</td>\n",
       "      <td>percent</td>\n",
       "      <td>0.000464</td>\n",
       "    </tr>\n",
       "    <tr>\n",
       "      <th>4</th>\n",
       "      <td>Australia</td>\n",
       "      <td>Historical</td>\n",
       "      <td>EV stock share</td>\n",
       "      <td>Cars</td>\n",
       "      <td>EV</td>\n",
       "      <td>2012</td>\n",
       "      <td>percent</td>\n",
       "      <td>0.002785</td>\n",
       "    </tr>\n",
       "  </tbody>\n",
       "</table>\n",
       "</div>"
      ],
      "text/plain": [
       "      region    category       parameter  mode powertrain  year     unit  \\\n",
       "0  Australia  Historical        EV sales  Cars        BEV  2011    sales   \n",
       "1  Australia  Historical        EV stock  Cars        BEV  2011    stock   \n",
       "2  Australia  Historical  EV sales share  Cars         EV  2011  percent   \n",
       "3  Australia  Historical  EV stock share  Cars         EV  2011  percent   \n",
       "4  Australia  Historical  EV stock share  Cars         EV  2012  percent   \n",
       "\n",
       "       value  \n",
       "0  49.000000  \n",
       "1  49.000000  \n",
       "2   0.006479  \n",
       "3   0.000464  \n",
       "4   0.002785  "
      ]
     },
     "execution_count": 40,
     "metadata": {},
     "output_type": "execute_result"
    }
   ],
   "source": [
    "ev_df.head()"
   ]
  },
  {
   "cell_type": "markdown",
   "id": "eb63a864",
   "metadata": {},
   "source": [
    "##### How to use `np.where`"
   ]
  },
  {
   "cell_type": "code",
   "execution_count": 60,
   "id": "5221a8f5",
   "metadata": {},
   "outputs": [
    {
     "name": "stdout",
     "output_type": "stream",
     "text": [
      "1.54 ms ± 61.7 µs per loop (mean ± std. dev. of 7 runs, 1000 loops each)\n"
     ]
    }
   ],
   "source": [
    "%%timeit\n",
    "# How to use numpy where\n",
    "ev_df['region_class'] = \\\n",
    "    np.where(ev_df['region']==\"China\", 'China', \n",
    "            np.where(ev_df['region']==\"Europe\", 'Europe', \n",
    "                    np.where(ev_df['region']==\"USA\", 'USA', \n",
    "                                     'Other') \n",
    "                                  )\n",
    "                         )"
   ]
  },
  {
   "cell_type": "code",
   "execution_count": 61,
   "id": "4f4b8e51",
   "metadata": {
    "scrolled": true
   },
   "outputs": [
    {
     "name": "stdout",
     "output_type": "stream",
     "text": [
      "1.26 ms ± 50.2 µs per loop (mean ± std. dev. of 7 runs, 1000 loops each)\n"
     ]
    }
   ],
   "source": [
    "%%timeit\n",
    "# How to use numpy where\n",
    "ev_df['region_class'] = \\\n",
    "    np.where(ev_df['region'].values==\"China\", 'China', \n",
    "            np.where(ev_df['region'].values==\"Europe\", 'Europe', \n",
    "                    np.where(ev_df['region'].values==\"USA\", 'USA', \n",
    "                                     'Other') \n",
    "                                  )\n",
    "                         )"
   ]
  },
  {
   "cell_type": "markdown",
   "id": "9ac222d5",
   "metadata": {},
   "source": [
    "#### Similar work we can do with `np.select` in more aligant way"
   ]
  },
  {
   "cell_type": "code",
   "execution_count": 68,
   "id": "26fb3133",
   "metadata": {},
   "outputs": [
    {
     "name": "stdout",
     "output_type": "stream",
     "text": [
      "1.46 ms ± 41 µs per loop (mean ± std. dev. of 7 runs, 1000 loops each)\n"
     ]
    }
   ],
   "source": [
    "%%timeit\n",
    "conditions = [\n",
    "    ~ev_df['region'].isin([\"China\",\"Europe\",\"USA\"]),\n",
    "]\n",
    "\n",
    "choices = [\n",
    "    'Other'\n",
    "]\n",
    "\n",
    "ev_df['region_class1'] = np.select(conditions, choices, default=ev_df['region'].values)  # Order of operations matter!"
   ]
  },
  {
   "cell_type": "code",
   "execution_count": 70,
   "id": "169d708e",
   "metadata": {},
   "outputs": [
    {
     "data": {
      "text/plain": [
       "array(['Other', 'China', 'Europe', 'USA'], dtype=object)"
      ]
     },
     "execution_count": 70,
     "metadata": {},
     "output_type": "execute_result"
    }
   ],
   "source": [
    "ev_df['region_class1'].unique()"
   ]
  },
  {
   "cell_type": "markdown",
   "id": "ce14e9a6",
   "metadata": {},
   "source": [
    "#### Let's draw a plot and see it visually"
   ]
  },
  {
   "cell_type": "code",
   "execution_count": 62,
   "id": "5c0d3fbd",
   "metadata": {},
   "outputs": [],
   "source": [
    "grouped_df = (ev_df\n",
    " [(ev_df['parameter'] == 'EV stock') & (ev_df[\"category\"]==\"Historical\") & (ev_df['unit']=='stock') & (ev_df[\"mode\"]=='Cars') & (ev_df['powertrain'].isin([\"BEV\",\"PHEV\"]))]\n",
    " .groupby([\"region_class\",\"year\",\"powertrain\"])['value']\n",
    " .sum()\n",
    " .to_frame()\n",
    " .reset_index()\n",
    " .sort_values(['year','value'],ascending=[True,False])\n",
    ")"
   ]
  },
  {
   "cell_type": "code",
   "execution_count": 64,
   "id": "a820c9f6",
   "metadata": {},
   "outputs": [],
   "source": [
    "data = (grouped_df\n",
    "           .query(\"powertrain in ('BEV','PHEV')\")\n",
    "           .assign(\n",
    "               region_powertrain = lambda df_: df_[\"region_class\"].str.cat(df_[\"powertrain\"],sep = \" \").astype(\"category\"),\n",
    "               value = lambda df_: df_[\"value\"]/1000000\n",
    "           )\n",
    "\n",
    ")"
   ]
  },
  {
   "cell_type": "code",
   "execution_count": 72,
   "id": "f7b7a33e",
   "metadata": {},
   "outputs": [
    {
     "data": {
      "image/png": "[encoded data removed]",
      "text/plain": [
       "<Figure size 1600x800 with 1 Axes>"
      ]
     },
     "metadata": {},
     "output_type": "display_data"
    }
   ],
   "source": [
    "plt.figure(figsize=(16,8))\n",
    "sns.barplot(data=data, x='year',y='value', orient=\"v\",hue=\"region_powertrain\")\n",
    "plt.xlabel(\"Year\")\n",
    "plt.ylabel(\"Millions\");"
   ]
  },
  {
   "cell_type": "code",
   "execution_count": 13,
   "id": "fff40e96",
   "metadata": {},
   "outputs": [],
   "source": [
    "# data"
   ]
  },
  {
   "cell_type": "code",
   "execution_count": null,
   "id": "776bd1ff",
   "metadata": {},
   "outputs": [],
   "source": []
  }
 ],
 "metadata": {
  "kernelspec": {
   "display_name": "Python 3 (ipykernel)",
   "language": "python",
   "name": "python3"
  },
  "language_info": {
   "codemirror_mode": {
    "name": "ipython",
    "version": 3
   },
   "file_extension": ".py",
   "mimetype": "text/x-python",
   "name": "python",
   "nbconvert_exporter": "python",
   "pygments_lexer": "ipython3",
   "version": "3.9.15"
  }
 },
 "nbformat": 4,
 "nbformat_minor": 5
}

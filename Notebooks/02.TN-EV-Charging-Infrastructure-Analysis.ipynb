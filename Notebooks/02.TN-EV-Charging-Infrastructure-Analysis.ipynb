{
 "cells": [
  {
   "cell_type": "code",
   "execution_count": 1,
   "id": "d8c97770",
   "metadata": {},
   "outputs": [],
   "source": [
    "# Import Necessary libraries\n",
    "import pandas as pd\n",
    "import numpy as np\n",
    "import matplotlib.pyplot as plt\n",
    "import seaborn as sns"
   ]
  },
  {
   "cell_type": "code",
   "execution_count": 2,
   "id": "51591a3d",
   "metadata": {},
   "outputs": [],
   "source": [
    "# Read Data\n",
    "ev_data = pd.read_csv('../Data/IEA-EV-data.csv')"
   ]
  },
  {
   "cell_type": "code",
   "execution_count": 3,
   "id": "2e41bd19",
   "metadata": {},
   "outputs": [],
   "source": [
    "ev_df = (\n",
    "ev_data\n",
    "    .assign(\n",
    "        **{c:lambda df_,c=c:df_[c].astype('category') for c in ['region','category','parameter','mode','powertrain','unit']},\n",
    "        year = lambda df_:df_['year'].astype(\"int16\")\n",
    "    )\n",
    ")"
   ]
  },
  {
   "cell_type": "code",
   "execution_count": 138,
   "id": "3e2c42b2",
   "metadata": {},
   "outputs": [
    {
     "data": {
      "text/html": [
       "<div>\n",
       "<style scoped>\n",
       "    .dataframe tbody tr th:only-of-type {\n",
       "        vertical-align: middle;\n",
       "    }\n",
       "\n",
       "    .dataframe tbody tr th {\n",
       "        vertical-align: top;\n",
       "    }\n",
       "\n",
       "    .dataframe thead th {\n",
       "        text-align: right;\n",
       "    }\n",
       "</style>\n",
       "<table border=\"1\" class=\"dataframe\">\n",
       "  <thead>\n",
       "    <tr style=\"text-align: right;\">\n",
       "      <th></th>\n",
       "      <th>region</th>\n",
       "      <th>category</th>\n",
       "      <th>parameter</th>\n",
       "      <th>mode</th>\n",
       "      <th>powertrain</th>\n",
       "      <th>year</th>\n",
       "      <th>unit</th>\n",
       "      <th>value</th>\n",
       "    </tr>\n",
       "  </thead>\n",
       "  <tbody>\n",
       "    <tr>\n",
       "      <th>38</th>\n",
       "      <td>Australia</td>\n",
       "      <td>Historical</td>\n",
       "      <td>EV charging points</td>\n",
       "      <td>EV</td>\n",
       "      <td>Publicly available fast</td>\n",
       "      <td>2017</td>\n",
       "      <td>charging points</td>\n",
       "      <td>40.000000</td>\n",
       "    </tr>\n",
       "    <tr>\n",
       "      <th>39</th>\n",
       "      <td>Australia</td>\n",
       "      <td>Historical</td>\n",
       "      <td>EV charging points</td>\n",
       "      <td>EV</td>\n",
       "      <td>Publicly available slow</td>\n",
       "      <td>2017</td>\n",
       "      <td>charging points</td>\n",
       "      <td>436.000000</td>\n",
       "    </tr>\n",
       "    <tr>\n",
       "      <th>43</th>\n",
       "      <td>Australia</td>\n",
       "      <td>Historical</td>\n",
       "      <td>EV charging points</td>\n",
       "      <td>EV</td>\n",
       "      <td>Publicly available fast</td>\n",
       "      <td>2018</td>\n",
       "      <td>charging points</td>\n",
       "      <td>61.093887</td>\n",
       "    </tr>\n",
       "    <tr>\n",
       "      <th>44</th>\n",
       "      <td>Australia</td>\n",
       "      <td>Historical</td>\n",
       "      <td>EV charging points</td>\n",
       "      <td>EV</td>\n",
       "      <td>Publicly available slow</td>\n",
       "      <td>2018</td>\n",
       "      <td>charging points</td>\n",
       "      <td>665.923340</td>\n",
       "    </tr>\n",
       "    <tr>\n",
       "      <th>55</th>\n",
       "      <td>Australia</td>\n",
       "      <td>Historical</td>\n",
       "      <td>EV charging points</td>\n",
       "      <td>EV</td>\n",
       "      <td>Publicly available fast</td>\n",
       "      <td>2019</td>\n",
       "      <td>charging points</td>\n",
       "      <td>251.000000</td>\n",
       "    </tr>\n",
       "  </tbody>\n",
       "</table>\n",
       "</div>"
      ],
      "text/plain": [
       "       region    category           parameter mode               powertrain  \\\n",
       "38  Australia  Historical  EV charging points   EV  Publicly available fast   \n",
       "39  Australia  Historical  EV charging points   EV  Publicly available slow   \n",
       "43  Australia  Historical  EV charging points   EV  Publicly available fast   \n",
       "44  Australia  Historical  EV charging points   EV  Publicly available slow   \n",
       "55  Australia  Historical  EV charging points   EV  Publicly available fast   \n",
       "\n",
       "    year             unit       value  \n",
       "38  2017  charging points   40.000000  \n",
       "39  2017  charging points  436.000000  \n",
       "43  2018  charging points   61.093887  \n",
       "44  2018  charging points  665.923340  \n",
       "55  2019  charging points  251.000000  "
      ]
     },
     "execution_count": 138,
     "metadata": {},
     "output_type": "execute_result"
    }
   ],
   "source": [
    "# Get only historical data of charging points.\n",
    "ev_his_df = ev_df[(ev_df[\"category\"]==\"Historical\") & (ev_df[\"parameter\"] == \"EV charging points\")]\n",
    "# ev_his_df = ev_df.query(\"category=='Historical' and parameter == 'EV charging points'\")\n",
    "ev_his_df.head()"
   ]
  },
  {
   "cell_type": "code",
   "execution_count": 24,
   "id": "82f23e56",
   "metadata": {},
   "outputs": [],
   "source": [
    "# ev_his_df.category.value_counts()\n",
    "# ev_his_df.parameter.value_counts()"
   ]
  },
  {
   "cell_type": "markdown",
   "id": "d3ea43cc",
   "metadata": {},
   "source": [
    "### Fast Charging stations in `['China','Europe','USA','Rest of the world']` by year."
   ]
  },
  {
   "cell_type": "code",
   "execution_count": 154,
   "id": "5e710abc",
   "metadata": {},
   "outputs": [],
   "source": [
    "# Get data for China,Europe,USA,Rest of the World\n",
    "data = (ev_his_df\n",
    "        .query(\"region in ['China','Europe','USA','Rest of the world'] and powertrain=='Publicly available fast'\")\n",
    "        .assign(\n",
    "                region     = lambda df_:df_[\"region\"].to_list(),\n",
    "                powertrain = lambda df_:df_[\"powertrain\"].to_list(),\n",
    "        )\n",
    "        .groupby(['region','year','powertrain'])['value']\n",
    "        .sum()\n",
    "        .reset_index()\n",
    "        .assign(\n",
    "            value= lambda df_:df_[\"value\"]/1000\n",
    "        )\n",
    "        .sort_values(\"year\")\n",
    "        .reset_index(drop = True)\n",
    "       )"
   ]
  },
  {
   "cell_type": "code",
   "execution_count": 156,
   "id": "aa100e4c",
   "metadata": {},
   "outputs": [
    {
     "data": {
      "text/plain": [
       "Text(0, 0.5, 'Thousands')"
      ]
     },
     "execution_count": 156,
     "metadata": {},
     "output_type": "execute_result"
    },
    {
     "data": {
      "image/png": "[encoded data removed]",
      "text/plain": [
       "<Figure size 1600x800 with 1 Axes>"
      ]
     },
     "metadata": {},
     "output_type": "display_data"
    }
   ],
   "source": [
    "plt.figure(figsize=(16,8))\n",
    "sns.barplot(data= data, x='year', y=\"value\",hue=\"region\")\n",
    "plt.xlabel(\"Year\")\n",
    "plt.ylabel(\"Thousands\")"
   ]
  },
  {
   "cell_type": "code",
   "execution_count": null,
   "id": "24180812",
   "metadata": {},
   "outputs": [],
   "source": []
  }
 ],
 "metadata": {
  "kernelspec": {
   "display_name": "Python 3 (ipykernel)",
   "language": "python",
   "name": "python3"
  },
  "language_info": {
   "codemirror_mode": {
    "name": "ipython",
    "version": 3
   },
   "file_extension": ".py",
   "mimetype": "text/x-python",
   "name": "python",
   "nbconvert_exporter": "python",
   "pygments_lexer": "ipython3",
   "version": "3.9.15"
  }
 },
 "nbformat": 4,
 "nbformat_minor": 5
}
